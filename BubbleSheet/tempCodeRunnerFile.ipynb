= cv2.drawContours(image.copy(), contours, -1, (255, 255, 255), 50)

# Display the original and contour images
    # cv2.imshow('Original Image', image)
    cv2.imshow('Contour Image', contour_image)
    cv2.waitKey(0)
    cv2.destroyAll